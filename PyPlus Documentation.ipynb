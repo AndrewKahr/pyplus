{
 "cells": [
  {
   "cell_type": "markdown",
   "metadata": {
    "deletable": false,
    "editable": false
   },
   "source": [
    "# PyPlus: A Python to C++ Transpiler\n",
    "\n",
    "### Purpose\n",
    "This is a tool designed to assist with porting Python code to C++, serving as the first step of a porting effort. The goal of this tool isn't necessarily to translate all Python perfectly to C++, rather, it's aimed at eliminating the boilerplate work that occurs during a software port. As much of Python is very similar to C++, translation is feasable for much of the code. Most importantly, the tool also brings over comments and docstrings thus eliminating much of the manual labor necessary during a port.\n",
    "\n",
    "### Concept of Operation\n",
    "This tool utilizes the Python interpreter to read a Python script or module and break it down into an Abstract Syntax Tree. Then, it recursively traverses the tree and converts the nodes into a line of code in C++. Code that cannot be directly translated is copied verbatim from the original python script and wrapped with C++ style comment symbols and preceded with a comment indicating why it wasn't translated. Once the whole tree is traversed, the translated code is written to C++ files and ready for use. \n",
    "\n",
    "The trickiest part of python to C++ code conversion is python not being strongly typed. To solve this, we use lists to store variable types. If variables are assigned to each other, they begin sharing the same list. Ideally, at a certain point in the Python script, a known type will be assigned to one of the variables. Since all variables that rely on that type share the same list, they will all reflect the type change without needing to recursively solve variable types every time a variable type is discovered or updated. Function parameters and return types also follow the same strategy.\n",
    "\n",
    "\n",
    "### Code Layout\n",
    "The code for this tool is laid out in several different classes to aid in organization and readability. The following are classes and scripts used by the tool.\n",
    "\n",
    "#### pyplus\n",
    "This is the script the end user will interact with. It contains code used to launch the conversion process.\n",
    "\n",
    "#### modules/pytranslator\n",
    "This class launches the analyzer and provides it with all the data it needs to run. Once analysis completes, this class will perform steps to finalize the conversion and write the converted code to C++ files.\n",
    "\n",
    "#### modules/pyanalyzer\n",
    "This class performs the bulk of the translation work. It recursively traverses through the tree the pytranslator class provided and converts the nodes to C++ code.\n",
    "\n",
    "#### modules/portedfunctions\n",
    "This module contains functions for converting certain python calls to C++.\n",
    "\n",
    "#### modules/cpp*\n",
    "These classes (classes prepended with cpp) hold definitions for object representations of C++ files, functions, variables, and code lines. This helps keep converted code organized and makes code export much easier.\n",
    "\n",
    "#### modules/pyplusexceptions\n",
    "This class holds exceptions specific to pyplus. This is to help make exiting a recursive function call easier when code translation for a certain line isn't supported."
   ]
  },
  {
   "cell_type": "markdown",
   "metadata": {
    "deletable": false,
    "editable": false
   },
   "source": [
    "## Usage\n",
    "The translator can be used either from this notebook in the cells below or by editing the pyplus script located at the root directory of the tool to specify the file to convert and the location for outputting the conversion and run it. It is recommended to use this notebook for ease of use. This tool has been validated for **Python 3.8.5**. Use of a different version may have unexpected results. Code you want to translate must be valid python code.\n",
    "\n",
    "**Make sure you run the following code cell before attempting to use the rest of the notebook**"
   ]
  },
  {
   "cell_type": "code",
   "execution_count": null,
   "metadata": {
    "deletable": false,
    "editable": false
   },
   "outputs": [],
   "source": [
    "import pyplus"
   ]
  },
  {
   "cell_type": "markdown",
   "metadata": {
    "deletable": false,
    "editable": false
   },
   "source": [
    "The cells below are set up to convert scripts located in the examples directory. Set script_name to the name of the script you'd like to convert, then run that cell followed by the cell below it. You'll find the tool's output in the output directory. To view the output, you can use any text editor, however an IDE with C++ support is recommended to view code highlighting and other C++ specific conveniences."
   ]
  },
  {
   "cell_type": "code",
   "execution_count": null,
   "metadata": {
    "deletable": false
   },
   "outputs": [],
   "source": [
    "script_name = \"example_assignment.py\""
   ]
  },
  {
   "cell_type": "code",
   "execution_count": null,
   "metadata": {
    "deletable": false,
    "editable": false
   },
   "outputs": [],
   "source": [
    "pyplus.convert(\"examples/\" + script_name, \"output/\")"
   ]
  },
  {
   "cell_type": "markdown",
   "metadata": {
    "deletable": false,
    "editable": false
   },
   "source": [
    "## Tests\n",
    "The following cell allows you to run pytest for unit test validation"
   ]
  },
  {
   "cell_type": "code",
   "execution_count": null,
   "metadata": {
    "deletable": false,
    "editable": false
   },
   "outputs": [],
   "source": [
    "!pytest"
   ]
  },
  {
   "cell_type": "markdown",
   "metadata": {
    "deletable": false,
    "editable": false
   },
   "source": [
    "## Limitations\n",
    "As this tool was built in a very limited timeframe, there are several limitations to its translation abilities. Below are code constructs that the tool currently fully or partially supports.\n",
    "\n",
    "#### Full Support\n",
    "* BoolOp\\*\\*\n",
    "* BinOp\\*\\*\n",
    "* UnaryOp\\*\\*\n",
    "* If\\*\n",
    "* While\\*\n",
    "* Break\n",
    "* Continue\n",
    "* Return\\*\\*\n",
    "* Pass\n",
    "* Assign\\*\\*\n",
    "* Constant\n",
    "* Name\n",
    "* Comments\n",
    "\n",
    "#### Partial Support\n",
    "* Expr\n",
    "* Call\n",
    "* Compare\n",
    "* FunctionDef\n",
    "\n",
    "\n",
    "\\*Construct is fully supported, however if the test field contains unsupported constructs, the entire construct won't be translated  \n",
    "\\*\\*Construct is fully supported, however if it recursively depends on a construct with partial or no support, the entire construct won't be translated"
   ]
  },
  {
   "cell_type": "markdown",
   "metadata": {
    "deletable": false,
    "editable": false
   },
   "source": [
    "## Future Plans\n",
    "To further improve this tool, I'd like to add support for class conversion. As there is no support for classes as of this version, many python projects can't be easily converted. Adding support for class conversion will open the door to much more of the code base for translation. Originally, I had planned to implement class support, but time constraints forced me to scrap that portion. However, the project was structured in a way to allow for adding class support, so the complexity of adding it shouldn't require significant refactoring. After class support, recursively solving and translating imports would allow for far more code conversion to occur."
   ]
  },
  {
   "cell_type": "markdown",
   "metadata": {
    "deletable": false,
    "editable": false
   },
   "source": [
    "### Extra Credit\n",
    "First, a little background on me. I've programmed for roughly 6 years now, however, I've mostly programmed in C/C++ which I mostly self-taught myself up until last year when I took a C and a C++ course. I've also taken a high school AP CSA class which was in Java. COGS18 was my first experience learning and using Python.  \n",
    "\n",
    "This project goes far beyond the minimum requirements of this project. My tool required creating several complex classes and have them all interact with each other to facilitate code translation. In total, I created and used over 50 methods/functions across 7 different classes. As an electrical engineer, I haven't had any experience working with advanced data structures such as trees which was the core construct of the project. Thus to push this project to success, I first had to learn and understand the structure of Abstract Syntax Trees(ASTs) in addition to understanding how Python's AST class structures its ASTs. Furthermore, I had to understand and implement much more complex recursion where functions had to recursively call other functions, not just itself to facilitate complete tree traversal. Lastly, I had to use tricks at a very low level to effectively implement variable typing, one of the trickiest parts of a translation from Python to C++. While COGS18 briefly touched on how mutable types function, I built on this information to essentially gain access to a C/C++ style variable pointer. This allowed me to reflect variable type updates as the python code is parsed to all variables that are linked via assignment rather than need to recursively resolve every variable's type when more information is found about a variable.\n",
    "\n",
    "Overall, this was a very challenging, but rewarding project. By tackling this project, I've gained a much deeper understanding of how Python operates and further improved my programming skills by learning how trees work and how to perform more advanced recursion to solve a problem."
   ]
  }
 ],
 "metadata": {
  "kernelspec": {
   "display_name": "Python 3",
   "language": "python",
   "name": "python3"
  },
  "language_info": {
   "codemirror_mode": {
    "name": "ipython",
    "version": 3
   },
   "file_extension": ".py",
   "mimetype": "text/x-python",
   "name": "python",
   "nbconvert_exporter": "python",
   "pygments_lexer": "ipython3",
   "version": "3.8.5"
  }
 },
 "nbformat": 4,
 "nbformat_minor": 4
}
